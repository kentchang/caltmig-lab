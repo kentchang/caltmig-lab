{
 "cells": [
  {
   "cell_type": "markdown",
   "metadata": {},
   "source": [
    "# Cultural and Literary Text Mining\n",
    "## Pre-Lab Session: Python Preliminaries\n",
    "\n",
    "**Author**: Kent K. Chang\n",
    "\n",
    "Part of the [CALTMIG](https://caltmig.kentchang.com/) cult.\n",
    "\n",
    "This notebook means to introduce some jargons so you can get started with Python. Most of them will be introduced in greater detail in later sessions – some vague ideas of what each seems to mean would suffice. \n",
    "\n",
    "## Editoral conventions\n",
    "\n",
    "* **\"Note\" sections**: You may skip them during your first read.\n",
    "* **inline bold faced words**: also jargons\n",
    "* **`typewriter` `font`**: code or terminal commands\n",
    "\n",
    "* * *\n",
    "\n",
    "## Some terms\n",
    "\n",
    "For more accurate definitions please go to [Python 3 Glossary](https://docs.python.org/3/glossary.html).\n",
    "\n",
    "### Jupyter Notebook\n",
    "\n",
    "Currently on your screen is a Jupyter Notebook. You can think of this as a magical, Pythonized version of Microsoft Word. In it you can write an article and also put blocks of code. A code block looks like this:"
   ]
  },
  {
   "cell_type": "code",
   "execution_count": 1,
   "metadata": {
    "collapsed": false
   },
   "outputs": [
    {
     "name": "stdout",
     "output_type": "stream",
     "text": [
      "Hello from the other side . . . of Jupyter\n"
     ]
    }
   ],
   "source": [
    "print('Hello from the other side . . . of Jupyter')"
   ]
  },
  {
   "cell_type": "markdown",
   "metadata": {},
   "source": [
    "The magical bit is: you can run this block code above by hitting the play button on the toolbar while you select it.\n",
    "\n",
    "Each Jupyter Notebook is composed of a few **cells**. They can be prose (formatted using Markdown, a markup language) and code blocks.\n",
    "\n",
    "#### Note\n",
    "```\n",
    "In [1]:\n",
    "```\n",
    "`In` is input and its output is printed immediately below.\n",
    "\n",
    "* * *\n",
    "\n",
    "### Interpreter\n",
    "\n",
    "Indeed, Jupyter is not your run-of-the-mill coding environment. The fact that you can write a line of **statement**,  execute it, and see the output on the fly suggests that Python is an **interpreted** language. \n",
    "\n",
    "That means, when you hit \"play\", that `print()` statement goes into the Python **intrepreter** which actually runs the code and returns the result.\n",
    "\n",
    "Of course, as you progress and your code grows longer, you might want to set up your own Python environment and run all the lines in a file altogether. That is certainly possible and will be covered in future sessions.\n",
    "\n",
    "#### Note\n",
    "The other kind of programming language is **compiled language** like C++. You can't run C++ in the Python way; you have to write all your code in a single file and find some way to compile it to an executable file.\n",
    "\n",
    "* * *\n",
    "\n",
    "### Anaconda\n",
    "\n",
    "If you're curiously keen and want to set up your own environment, Anaconda is usually the go-to option. You can think of it as an all-in-one kit for Python programming. \n",
    "\n",
    "Technically, you can download the Python interpreter, install it, set up the **package** manager called `pip` and install packages you want individually. Then you pick your favorite text editor and start coding. Anaconda does all those things for you; it lets you start coding with little fuss.\n",
    "\n",
    "* * *\n",
    "\n",
    "### Function \n",
    "\n",
    "The intuition is: a function is a black box which allows you to throw things in, do something with it, and often the function returns something. A Python function is usually defined to achieve some *function*. \n",
    "\n",
    "Technically, it would be easier to think of function this way, if you're ready for some cringe attack:\n",
    "\n",
    "$$ y = f(x) = x + 1 $$\n",
    "\n",
    "Your math (or maths) teacher must have told you $f$ here is a function that takes $x$ as input. In Python a **function definition** for that math expression looks like this:\n",
    "\n",
    "```python\n",
    "def f(x):\n",
    "    y = x + 1\n",
    "    return y\n",
    "```\n",
    "\n",
    "#### Notes\n",
    "\n",
    "Here are a few more related terms. Feel free to skip the following section during the first read.\n",
    "\n",
    "* **parameter and argument**: In the above definition, `x` is a parameter, which is expected to be passed into the function. When you **invoke** the function somewhere in your code you write `f(5)`; `5` here is the argument that is actually passed into the function in runtime.\n",
    "* **return value**: What a function eventually spits out (`y` in this case). You don't really have to have a return value, and you can have more than one of those.\n",
    "* **method**: For now, just think of method as another name for function.  \n",
    "\n",
    "* * *\n",
    "\n",
    "### Module\n",
    "\n",
    "Formally defined as \"an organizational unit of Python code,\" a module, for now, is simply any block of code that works.\n",
    "\n",
    "* * *\n",
    "\n",
    "### Package and library\n",
    "\n",
    "Technically, package is a set of statements and function definitions. You can think of a package as a useful toolbox, and library is composed of a lot of toolboxes put together to make a series of tasks easier. \n",
    "\n",
    "People love Python because you can get and use a ton of nice toolboxes easily for free. Python already comes with a **standard library** which gives you some basic functionalities. But if you want to do fancy things, you need to **import** toolboxes into your code.\n",
    "\n",
    "Our first example wants you to download a text file remotely. The `request` library will enable us to do that. So later you will see, the first lines of our code include:\n",
    "\n",
    "```python\n",
    "import request\n",
    "```\n",
    "\n",
    "We will introduce a few libraries:\n",
    "\n",
    "* **request**: helps send HTTP requests to download files remotely\n",
    "* **NLTK**: the essential tool kit for natural language processing, enables you to do stuff like tokenization\n",
    "* **numpy**: allows you to easily create and work with multidimensional arrays, or vectors and matrices\n",
    "* **pandas**: like the Python version of Microsoft Excel, lets you maniuplate data frames, or worksheets\n",
    "* **matplotlib**: offers plotting functionalities"
   ]
  }
 ],
 "metadata": {
  "kernelspec": {
   "display_name": "Python 3",
   "language": "python",
   "name": "python3"
  },
  "language_info": {
   "codemirror_mode": {
    "name": "ipython",
    "version": 3
   },
   "file_extension": ".py",
   "mimetype": "text/x-python",
   "name": "python",
   "nbconvert_exporter": "python",
   "pygments_lexer": "ipython3",
   "version": "3.6.5"
  }
 },
 "nbformat": 4,
 "nbformat_minor": 0
}
