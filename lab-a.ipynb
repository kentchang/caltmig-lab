{
 "cells": [
  {
   "cell_type": "markdown",
   "metadata": {},
   "source": [
    "# Cultural and Literary Text Mining\n",
    "## Lab Session A: Python Fundamentals [0]\n",
    "\n",
    "**Date**: June 21\n",
    "\n",
    "**Author**: Kent K. Chang\n",
    "\n",
    "**Accompanying slides**: [link](http://caltmig.kentchang.com/lab/slides/python-fundamentals.html#/)\n",
    "\n",
    "* * *\n",
    "\n",
    "## The first program (as per tradition)"
   ]
  },
  {
   "cell_type": "code",
   "execution_count": null,
   "metadata": {
    "collapsed": false
   },
   "outputs": [],
   "source": [
    "print('Hello World')"
   ]
  },
  {
   "cell_type": "markdown",
   "metadata": {},
   "source": [
    "**Question 1**: What is the difference between \n",
    "```python\n",
    "print 'Hello World'\n",
    "```\n",
    "and \n",
    "```python\n",
    "print('Hello World')\n",
    "```\n",
    "\n",
    "Questions are for you to review at home and maybe make this session more interactive. :)"
   ]
  },
  {
   "cell_type": "markdown",
   "metadata": {},
   "source": [
    "## The second program"
   ]
  },
  {
   "cell_type": "markdown",
   "metadata": {},
   "source": [
    "### Task 1: load `.txt` files remotely"
   ]
  },
  {
   "cell_type": "markdown",
   "metadata": {},
   "source": [
    "Focus only on the use of `import`; ignore bits as instructed."
   ]
  },
  {
   "cell_type": "code",
   "execution_count": null,
   "metadata": {
    "collapsed": false
   },
   "outputs": [],
   "source": [
    "import urllib.request\n",
    "\n",
    "# ignore headers = {...} for now\n",
    "url = 'http://caltmig.kentchang.com/lab/resources/de_profundis.txt'\n",
    "req = urllib.request.Request(url, headers = {'User-Agent': 'Mozilla/5.0'})\n",
    "print(req)\n",
    "# pay attention to this particular language feature (slides)\n",
    "raw = urllib.request.urlopen(req).read().decode('utf8')\n",
    "\n",
    "# ignore [:15] for now\n",
    "print(raw[:15]) "
   ]
  },
  {
   "cell_type": "markdown",
   "metadata": {},
   "source": [
    "**Question 2-1**: What happens on the first line? \n",
    "\n",
    "**Question 2-2**: What is `utf8`? Why decoding?\n",
    "\n",
    "**Question 2-3**: Bonus question: Who is the author of the content in the text file?\n",
    "\n",
    "* * *"
   ]
  },
  {
   "cell_type": "markdown",
   "metadata": {},
   "source": [
    "`urllib.request.Request()` is too damn long. Can we make it shorter?"
   ]
  },
  {
   "cell_type": "code",
   "execution_count": null,
   "metadata": {
    "collapsed": true
   },
   "outputs": [],
   "source": [
    "from urllib.request import Request, urlopen\n",
    "\n",
    "req = Request('http://caltmig.kentchang.com/practical/tutorial-1/de_profundis.txt', headers={'User-Agent': 'Mozilla/5.0'})\n",
    "raw = urlopen(req).read().decode('utf8')\n",
    "\n",
    "# ignore [:15] for now\n",
    "print(raw[:15])"
   ]
  },
  {
   "cell_type": "markdown",
   "metadata": {},
   "source": [
    "Keep in mind, however, `from` is useful when you're only using one or two specific methods, and that if you're using multiple modules, spelling things out can enhance the readability of your code.\n",
    "* * *\n",
    "\n",
    "### Fun with NLTK\n",
    "#### Task 2: Tokenize the loaded `.txt`\n",
    "\n",
    "The following snippet fires the default word tokenizer. There are a few built-in ones but let's stick with the default one for now."
   ]
  },
  {
   "cell_type": "code",
   "execution_count": null,
   "metadata": {
    "collapsed": false
   },
   "outputs": [],
   "source": [
    "import nltk\n",
    "\n",
    "tokens = nltk.word_tokenize(raw)\n",
    "print(tokens[:10])\n",
    "\n",
    "# this will give you the number of tokens (word-ish) in *De Profundis*\n",
    "# len(): return the length of an object\n",
    "print(len(tokens))"
   ]
  },
  {
   "cell_type": "markdown",
   "metadata": {},
   "source": [
    "The output `['a', 'b', . . .]` suggests that technically, the tokenizer turns a long string into a list (a smaller unit), where each element (or item) in the list is a token. List is a data type in Python, which is our next topic.\n",
    "\n",
    "**Question 3:** What is wrong with the first ten tokens?\n",
    "* * *"
   ]
  },
  {
   "cell_type": "markdown",
   "metadata": {},
   "source": [
    "## Python data types\n",
    "### List\n",
    "\n",
    "Let's create a list of Wilde's works in chronological order:"
   ]
  },
  {
   "cell_type": "code",
   "execution_count": null,
   "metadata": {
    "collapsed": false
   },
   "outputs": [],
   "source": [
    "wildes_works = ['The Happy Prince and Other Stories (1888)', 'Lady Windermere\\'s Fan (1892)', 'A Woman of No Importance (1893)']\n",
    "print(wildes_works)"
   ]
  },
  {
   "cell_type": "markdown",
   "metadata": {},
   "source": [
    "Note that strings are enclosed in single or double quotes. Numbers aren't:"
   ]
  },
  {
   "cell_type": "code",
   "execution_count": null,
   "metadata": {
    "collapsed": false
   },
   "outputs": [],
   "source": [
    "first_three_int = [1, 2, 3]\n",
    "print(first_three_int)"
   ]
  },
  {
   "cell_type": "markdown",
   "metadata": {},
   "source": [
    "**Question 4:** What does `\\` do in `wildes_works[1]`?\n",
    "* * *\n",
    "Let's add Kent's favorite play to the list, using the `append()` function."
   ]
  },
  {
   "cell_type": "code",
   "execution_count": null,
   "metadata": {
    "collapsed": false
   },
   "outputs": [],
   "source": [
    "wildes_works.append('The Importance of Being Ernest (1895)')\n",
    "print(wildes_works)"
   ]
  },
  {
   "cell_type": "markdown",
   "metadata": {},
   "source": [
    "O how stupid of me – there's a typo in the last element. Since lists are mutable, we can correct it:"
   ]
  },
  {
   "cell_type": "code",
   "execution_count": null,
   "metadata": {
    "collapsed": false
   },
   "outputs": [],
   "source": [
    "wildes_works[-1] = 'The Importance of Being Earnest (1895)'\n",
    "print(wildes_works)"
   ]
  },
  {
   "cell_type": "markdown",
   "metadata": {},
   "source": [
    "I very smoothly introduced the magical index of `-1`, which refers to the last element in a list. Similar to `append()` is `extend()`:"
   ]
  },
  {
   "cell_type": "code",
   "execution_count": null,
   "metadata": {
    "collapsed": false
   },
   "outputs": [],
   "source": [
    "wildes_works.extend(['De Profundis (1895)', 'The Ballad of Reading Goal (1888)'])\n",
    "print(wildes_works)"
   ]
  },
  {
   "cell_type": "markdown",
   "metadata": {},
   "source": [
    "**Question 5:** What is the difference between `append()` and `extend()`?\n",
    "* * *\n",
    "Life is difficult; sometimes we need only comedies. Let's get rid of sad stories and the very sad poem in the list. You can delete an element in three ways (see slides):"
   ]
  },
  {
   "cell_type": "code",
   "execution_count": null,
   "metadata": {
    "collapsed": false
   },
   "outputs": [],
   "source": [
    "del wildes_works[0]\n",
    "# +: for string concatenation, like in JavaScript (or . in PHP)\n",
    "print(wildes_works.pop() + ' has been deleted.') # does four things at the same time\n",
    "wildes_works.remove('De Profundis (1895)')"
   ]
  },
  {
   "cell_type": "markdown",
   "metadata": {},
   "source": [
    "Now we need to add into the list *An Ideal Husband* (1895), the other comedy Wilde wrote, using `insert()`. Now we have two plays produced in the same year, so probably we should do alphabetical order, and thus *An Ideal Husband* should come before *Earnest* in the list. `insert()` allows us to specify the index we want the new element to be inserted:"
   ]
  },
  {
   "cell_type": "code",
   "execution_count": null,
   "metadata": {
    "collapsed": false
   },
   "outputs": [],
   "source": [
    "wildes_works.insert(2, 'An Ideal Husband (1895)')\n",
    "print(wildes_works)"
   ]
  },
  {
   "cell_type": "markdown",
   "metadata": {},
   "source": [
    "#### List slicing\n",
    "\n",
    "There's a cool thing about list which is you can slice it using `:`. Watch:"
   ]
  },
  {
   "cell_type": "code",
   "execution_count": null,
   "metadata": {
    "collapsed": false
   },
   "outputs": [],
   "source": [
    "# the whole list\n",
    "print(wildes_works)\n",
    "# the sliced list\n",
    "print(wildes_works[0:2])"
   ]
  },
  {
   "cell_type": "markdown",
   "metadata": {},
   "source": [
    "**Question 6:** Play around with the following:\n",
    "\n",
    "* `wildes_works[1:3]`\n",
    "* `wildes_works[1:]`\n",
    "* `wildes_works[:4]`\n",
    "\n",
    "And generalize what `list[x:y]` means.\n",
    "\n",
    "* * *\n",
    "\n",
    "### String\n",
    "\n",
    "Suppose we have a string `str = 'banana'`. Guess if this will work:\n",
    "```python\n",
    "print(str[0:2])\n",
    "```\n",
    "The output will either be a type error or something else. "
   ]
  },
  {
   "cell_type": "code",
   "execution_count": null,
   "metadata": {
    "collapsed": false
   },
   "outputs": [],
   "source": [
    "str = 'banana'\n",
    "print(str[0:2])"
   ]
  },
  {
   "cell_type": "markdown",
   "metadata": {},
   "source": [
    "Why did we get what we get? See slides.\n",
    "* * *\n",
    "\n",
    "### List (reprise)\n",
    "#### Accessing nested sequences . . . and slice them"
   ]
  },
  {
   "cell_type": "markdown",
   "metadata": {},
   "source": [
    "Since a string is technically a sequence of characters, a string in a list is technically a nested sequence. Let's try accessing elements in this nested sequence:"
   ]
  },
  {
   "cell_type": "code",
   "execution_count": null,
   "metadata": {
    "collapsed": false
   },
   "outputs": [],
   "source": [
    "# third character in the string 'A Woman of No Importance (1893)'\n",
    "print(wildes_works[1][2])"
   ]
  },
  {
   "cell_type": "markdown",
   "metadata": {},
   "source": [
    "Being a sequence, it can be sliced too:"
   ]
  },
  {
   "cell_type": "code",
   "execution_count": null,
   "metadata": {
    "collapsed": false
   },
   "outputs": [],
   "source": [
    "print(wildes_works[1][:-7])"
   ]
  },
  {
   "cell_type": "markdown",
   "metadata": {},
   "source": [
    "This gets rid of the last seven characters (including space) like ` (1895)`.\n",
    "* * *"
   ]
  },
  {
   "cell_type": "markdown",
   "metadata": {},
   "source": [
    "#### List concatenation\n",
    "\n",
    "`+`, too, works with lists. "
   ]
  },
  {
   "cell_type": "code",
   "execution_count": null,
   "metadata": {
    "collapsed": false
   },
   "outputs": [],
   "source": [
    "happy_prince_tales_1 = ['The Happy Prince', 'The Nightingale and the Rose']\n",
    "print(happy_prince_tales_1)\n",
    "happy_prince_tales_2 = ['The Selfish Giant', 'The Devoted Friend']\n",
    "print(happy_prince_tales_2)\n",
    "happy_prince_tales = happy_prince_tales_1 + happy_prince_tales_2\n",
    "print(happy_prince_tales)"
   ]
  },
  {
   "cell_type": "markdown",
   "metadata": {},
   "source": [
    "**Question 7-1:** We have left one story, “The Remarkable Rocket”, out. Can we do this:\n",
    "```python\n",
    "happy_prince_tales_1 + happy_prince_tales_2 + 'The Remarkable Rocket'\n",
    "```\n",
    "If we can, why? If not, how to fix it?\n",
    "\n",
    "**Question 7-2:** Can we do this:\n",
    "```python\n",
    "happy_prince_tales_1[0] + happy_prince_tales_2[0] + 'The Remarkable Rocket'\n",
    "```\n",
    "If we can, why? If not, how to fix it?\n",
    "\n",
    "* * *\n",
    "\n",
    "#### Traversing lists\n",
    "\n",
    "At this point, you have\n",
    "```python\n",
    "happy_prince_tales = ['The Happy Prince', 'The Nightingale and the Rose', \n",
    "                      'The Selfish Giant', 'The Devoted Friend', \n",
    "                      'The Remarkable Rocket']\n",
    "```\n",
    "Note that you can have extra spaces within a statement to improve readability.\n",
    "\n",
    "Let's print each element in our list, and concatenate string elements with other strings to form a natural sentence.\n",
    "\n",
    "Intuitively, we need to loop through the list. Like other programming languages, there are two statements for iteration: `while` and `for`. We'll learn about `for`-loop here. (See slides.)"
   ]
  },
  {
   "cell_type": "code",
   "execution_count": null,
   "metadata": {
    "collapsed": false
   },
   "outputs": [],
   "source": [
    "for happy_prince_tale in happy_prince_tales:\n",
    "    print(happy_prince_tale)"
   ]
  },
  {
   "cell_type": "markdown",
   "metadata": {},
   "source": [
    "Let's give this list some context:"
   ]
  },
  {
   "cell_type": "code",
   "execution_count": null,
   "metadata": {
    "collapsed": false
   },
   "outputs": [],
   "source": [
    "print('Oscar Wilde\\'s \\\"The Happy Prince and Other Tales\\\" includes the following stories: ')\n",
    "for happy_prince_tale in happy_prince_tales:\n",
    "    print('\\\"' + happy_prince_tale + '\\\"') # Insisting the correct punctuation"
   ]
  },
  {
   "cell_type": "markdown",
   "metadata": {},
   "source": [
    "What if we want to write it in one sentence:"
   ]
  },
  {
   "cell_type": "code",
   "execution_count": null,
   "metadata": {
    "collapsed": false
   },
   "outputs": [],
   "source": [
    "# print is a function that accepts multiple arguments, one being `end` \n",
    "print('Oscar Wilde\\'s \\\"The Happy Prince and Other Tales\\\" includes the following stories: ', end = \"\")\n",
    "for happy_prince_tale in happy_prince_tales:\n",
    "    print('\\\"' + happy_prince_tale + '\\\", ', end = \"\")"
   ]
  },
  {
   "cell_type": "markdown",
   "metadata": {},
   "source": [
    "We can use a simple `if`-statement to do something else for the last element:"
   ]
  },
  {
   "cell_type": "code",
   "execution_count": null,
   "metadata": {
    "collapsed": false
   },
   "outputs": [],
   "source": [
    "print('Oscar Wilde\\'s \\\"The Happy Prince and Other Tales\\\" includes the following stories: ', end = \"\")\n",
    "for i in range(len(happy_prince_tales)):\n",
    "    if i == (len(happy_prince_tales)-1):\n",
    "        print('\\\"' + happy_prince_tales[i] + '\\\". ', end = \"\")\n",
    "    else:\n",
    "        print('\\\"' + happy_prince_tales[i] + '\\\", ', end = \"\")"
   ]
  },
  {
   "cell_type": "markdown",
   "metadata": {},
   "source": [
    "`If`-statement is pretty self-explanatory. But in fact, there's a cool function that does the exact same thing: "
   ]
  },
  {
   "cell_type": "code",
   "execution_count": null,
   "metadata": {
    "collapsed": false
   },
   "outputs": [],
   "source": [
    "print('Oscar Wilde\\'s \\\"The Happy Prince and Other Tales\\\" includes the following stories: \\\"' \n",
    "      + '\\\", \\\"'.join(happy_prince_tales) + '\".')\n",
    "# slides"
   ]
  },
  {
   "cell_type": "markdown",
   "metadata": {},
   "source": [
    "Alternatively, we can add quotes first and use `.join()` to add commas only."
   ]
  },
  {
   "cell_type": "code",
   "execution_count": null,
   "metadata": {
    "collapsed": false
   },
   "outputs": [],
   "source": [
    "happy_prince_tales_with_quotes = []\n",
    "for happy_prince_tale in happy_prince_tales:\n",
    "    happy_prince_tales_with_quotes.append('\\\"' + happy_prince_tale + '\\\"')\n",
    "    \n",
    "print(happy_prince_tales_with_quotes)\n",
    "print('Oscar Wilde\\'s \\\"The Happy Prince and Other Tales\\\" includes the following stories: ', end = \"\")\n",
    "print(', '.join(happy_prince_tales_with_quotes) + '.')"
   ]
  },
  {
   "cell_type": "markdown",
   "metadata": {},
   "source": [
    "#### List comprehension\n",
    "\n",
    "See slides."
   ]
  },
  {
   "cell_type": "code",
   "execution_count": null,
   "metadata": {
    "collapsed": false
   },
   "outputs": [],
   "source": [
    "happy_prince_tales = ['\\\"' + happy_prince_tale + '\\\"' for happy_prince_tale in happy_prince_tales]\n",
    "print('Oscar Wilde\\'s \\\"The Happy Prince and Other Tales\\\" includes the following stories: ', end = \"\")\n",
    "print(', '.join(happy_prince_tales) + '.')"
   ]
  },
  {
   "cell_type": "markdown",
   "metadata": {},
   "source": [
    "* * *\n",
    "\n",
    "### Dictionary\n",
    "\n",
    "Technically, dictionaries represent the mapping between keys (or indices) and their associated values. In a sense, that's also how actual dictionaries work. For example, you want to know the German word for \"day\" and you look it up in a English-German dictionary. You do so by searching for the entry \"day\" (which is a `key` in Python) and you get \"Tag\" (which is the corresponding `value` of the `key`).\n",
    "\n",
    "```python\n",
    "en2de_dict = {'day': 'Tag'}\n",
    "```\n",
    "\n",
    "This gives you the German equivalent of \"day\" in this dictionary of `en2de_dict`:\n",
    "\n",
    "```python\n",
    "en2de_dict['day']\n",
    "```\n",
    "\n",
    "Note that `{}` is associated with unordered sets, dictionary being one of those."
   ]
  },
  {
   "cell_type": "code",
   "execution_count": null,
   "metadata": {
    "collapsed": false
   },
   "outputs": [],
   "source": [
    "en2de_dict = {'day': 'Tag'}\n",
    "de = en2de_dict['day']\n",
    "print(de)"
   ]
  },
  {
   "cell_type": "markdown",
   "metadata": {},
   "source": [
    "**Question 8**: Would this work:\n",
    "\n",
    "```python\n",
    "print(en2de_dict[1])\n",
    "```\n",
    "\n",
    "Why or why not?"
   ]
  },
  {
   "cell_type": "code",
   "execution_count": null,
   "metadata": {
    "collapsed": false
   },
   "outputs": [],
   "source": [
    "en2de_dict['Good'] = 'Gute'\n",
    "en2de_dict.update({'I': 'ich'})\n",
    "en2de_dict.update({'“': '„', \n",
    "                   '”': '“'})\n",
    "print(en2de_dict)"
   ]
  },
  {
   "cell_type": "markdown",
   "metadata": {},
   "source": [
    "Dictionary objects come with handy functions like `get()` and `items()`:"
   ]
  },
  {
   "cell_type": "code",
   "execution_count": null,
   "metadata": {
    "collapsed": false
   },
   "outputs": [],
   "source": [
    "# get()\n",
    "if en2de_dict.get('I'):\n",
    "    print('The word \\\"I\\\" is in the dictionary')\n",
    "else:\n",
    "    print('The word \\\"I\\\" is not in the dictionary')\n",
    "\n",
    "print('-------------------------------------------')\n",
    "\n",
    "if en2de_dict.get('Oscar'):\n",
    "    print('The word \\\"Oscar\\\" is in the dictionary')\n",
    "else:\n",
    "    print('The word \\\"Oscar\\\" is not in the dictionary')"
   ]
  },
  {
   "cell_type": "code",
   "execution_count": null,
   "metadata": {
    "collapsed": false
   },
   "outputs": [],
   "source": [
    "# items() - note it's plural\n",
    "for key, value in en2de_dict.items():\n",
    "    print('{0} is {1} in German.'.format(key, value))"
   ]
  },
  {
   "cell_type": "markdown",
   "metadata": {},
   "source": [
    "I subtly introduced `format()`.\n",
    "\n",
    "* * *"
   ]
  },
  {
   "cell_type": "markdown",
   "metadata": {},
   "source": [
    "If you are comfortable with the above material you may attempt this before we finish off the meeting.\n",
    "\n",
    "## Wrap-it-up task: a simple translator\n",
    "\n",
    "Let's practice everything we've learned today. You're given a string (quotes aren't escaped here because they are curly ones which aren't used in programming)\n",
    "\n",
    "```python\n",
    "en = 'Kent says: “Good night!”'\n",
    "```\n",
    "\n",
    "You have to write code such that when you run `print(de)`, it prints\n",
    "\n",
    "```python\n",
    "Kent sagt: „Gute Nacht!“\n",
    "```\n",
    "\n",
    "Some steps:\n",
    "\n",
    "* add new items to the dictionary as required\n",
    "* tokenize the sentence `en`\n",
    "* loop through the list and check if a word is in the dictionary through `get()`\n",
    "* if it is, replace the word in `en` with the corresponding value in the dictionary (use **list comprehension** when you can)\n",
    "* try to concatenate elements in the updated list into a sentence"
   ]
  }
 ],
 "metadata": {
  "kernelspec": {
   "display_name": "Python 3",
   "language": "python",
   "name": "python3"
  },
  "language_info": {
   "codemirror_mode": {
    "name": "ipython",
    "version": 3
   },
   "file_extension": ".py",
   "mimetype": "text/x-python",
   "name": "python",
   "nbconvert_exporter": "python",
   "pygments_lexer": "ipython3",
   "version": "3.6.5"
  }
 },
 "nbformat": 4,
 "nbformat_minor": 0
}
