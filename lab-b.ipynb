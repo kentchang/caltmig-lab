{
 "cells": [
  {
   "cell_type": "markdown",
   "metadata": {},
   "source": [
    "# Cultural and Literary Text Mining\n",
    "## Lab Session B: Python Fundamentals [1]\n",
    "\n",
    "**Date**: June 28\n",
    "\n",
    "**Author**: Kent K. Chang\n",
    "\n",
    "**Accompanying slides**: [link](http://caltmig.kentchang.com/lab/slides/python-fundamentals-1.html#/)\n",
    "\n",
    "* * *\n",
    "\n",
    "## Returning to Basics\n",
    "\n",
    "### The assignment operator and memory location"
   ]
  },
  {
   "cell_type": "code",
   "execution_count": null,
   "metadata": {
    "collapsed": false
   },
   "outputs": [],
   "source": [
    "pi = 3\n",
    "radius = 11\n",
    "area = pi * (radius**2)\n",
    "radius = 14\n",
    "\n",
    "print('The memory address of the variable pi is ' + str(id(pi)) + \n",
    "      ' which holds the value of ' + str(pi) + '.')\n",
    "print('The memory address of the variable radius is ' + str(id(radius)))\n",
    "print('The memory address of the variable area is ' + str(id(area)))"
   ]
  },
  {
   "cell_type": "markdown",
   "metadata": {},
   "source": [
    "The fact that strings are non-scalars and can be looped through:"
   ]
  },
  {
   "cell_type": "code",
   "execution_count": null,
   "metadata": {
    "collapsed": false
   },
   "outputs": [],
   "source": [
    "test_str = 'Crew3'\n",
    "\n",
    "for char in test_str:\n",
    "    print('The memory address of ' + char + ' is: ' + str(id(char)) + '.')"
   ]
  },
  {
   "cell_type": "markdown",
   "metadata": {},
   "source": [
    "## The implications of mutability: motivation\n",
    "\n",
    "Confession time: I made a mistake in Notebook 1.\n",
    "\n",
    "The following is based on Guttag 68-75. I want to show why I think this code from Notebook 1 is bad\n",
    "\n",
    "```python\n",
    "happy_prince_tales = ['\\\"' + happy_prince_tale + '\\\"' for happy_prince_tale in happy_prince_tales]\n",
    "```\n",
    "\n",
    "### Value vs. object equality\n",
    "\n",
    "First, run:"
   ]
  },
  {
   "cell_type": "code",
   "execution_count": null,
   "metadata": {
    "collapsed": true
   },
   "outputs": [],
   "source": [
    "Techs = ['MIT', 'Caltech']\n",
    "Ivys = ['Harvard', 'Yale', 'Brown']\n",
    "Univs = [Techs, Ivys]\n",
    "Univs1 = [['MIT', 'Caltech'], ['Harvard', 'Yale', 'Brown']]"
   ]
  },
  {
   "cell_type": "markdown",
   "metadata": {},
   "source": [
    "**Homework:** With those variables and lists ready, run: \n",
    "```python\n",
    "print(Univs == Univs1)\n",
    "print(id(Univs) == id(Univs1))\n",
    "```\n",
    "What are the outputs? Try to explain them."
   ]
  }
 ],
 "metadata": {
  "kernelspec": {
   "display_name": "Python 3",
   "language": "python",
   "name": "python3"
  },
  "language_info": {
   "codemirror_mode": {
    "name": "ipython",
    "version": 3
   },
   "file_extension": ".py",
   "mimetype": "text/x-python",
   "name": "python",
   "nbconvert_exporter": "python",
   "pygments_lexer": "ipython3",
   "version": "3.6.5"
  }
 },
 "nbformat": 4,
 "nbformat_minor": 0
}
